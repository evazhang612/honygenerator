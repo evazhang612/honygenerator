{
 "cells": [
  {
   "cell_type": "code",
   "execution_count": 4,
   "metadata": {},
   "outputs": [],
   "source": [
    "import torchtext, random, torch\n",
    "\n",
    "import torch.nn as nn\n",
    "import torch.nn.functional as F\n",
    "from torch.autograd import Variable\n",
    "from torch.nn import init\n",
    "\n",
    "import numpy as np\n",
    "from tqdm import tqdm_notebook\n",
    "\n",
    "global use_cuda\n",
    "use_cuda = torch.cuda.is_available()\n",
    "device = 0 if use_cuda else -1\n",
    "\n",
    "TEXT = torchtext.data.Field()\n",
    "train, val, test = torchtext.datasets.LanguageModelingDataset.splits(path=\"../data\", train=\"train.txt\", validation=\"valid.txt\", test=\"valid.txt\", text_field=TEXT)\n",
    "TEXT.build_vocab(train, max_size=1000) if False else TEXT.build_vocab(train)\n",
    "TEXT.vocab.load_vectors('glove.840B.300d')\n",
    "train_iter, val_iter, test_iter = torchtext.data.BPTTIterator.splits((train, val, test), batch_size=10, device=device, bptt_len=32, repeat=False)"
   ]
  },
  {
   "cell_type": "code",
   "execution_count": 5,
   "metadata": {},
   "outputs": [],
   "source": [
    "class LSTMLanguageModel(nn.Module):\n",
    "    def __init__(self, hidden_dim = 100, TEXT = TEXT, batch_size = 10):\n",
    "        super(LSTMLanguageModel, self).__init__()\n",
    "        self.hidden_dim = hidden_dim\n",
    "        self.batch_size = batch_size\n",
    "        \n",
    "        vocab_size, embedding_dim = TEXT.vocab.vectors.shape\n",
    "        self.embeddings = nn.Embedding(vocab_size, embedding_dim)\n",
    "        self.embeddings.weight.data.copy_(TEXT.vocab.vectors)\n",
    "        \n",
    "        self.lstm = nn.LSTM(input_size = embedding_dim, hidden_size = self.hidden_dim, dropout = 0.50)\n",
    "        self.linear = nn.Linear(in_features = self.hidden_dim, out_features = vocab_size)\n",
    "        self.drop = nn.Dropout(p = 0.50)\n",
    "        \n",
    "        self.init_lstm_params_uniformly(bound = 0.04)\n",
    "        \n",
    "    def init_lstm_params_uniformly(self, bound):\n",
    "        for layer_params in self.lstm._all_weights:\n",
    "            for param in layer_params:\n",
    "                if 'weight' in param:\n",
    "                    init.uniform(self.lstm.__getattr__(param), -bound, bound)\n",
    "                    \n",
    "                    \n",
    "    def init_hidden(self):\n",
    "        direction = 2 if self.lstm.bidirectional else 1\n",
    "        if use_cuda:\n",
    "            return (Variable(torch.zeros(direction*self.lstm.num_layers, self.batch_size, self.hidden_dim)).cuda(), \n",
    "                    Variable(torch.zeros(direction*self.lstm.num_layers, self.batch_size, self.hidden_dim)).cuda())\n",
    "        else:\n",
    "            return (Variable(torch.zeros(direction*self.lstm.num_layers, self.batch_size, self.hidden_dim)), \n",
    "                    Variable(torch.zeros(direction*self.lstm.num_layers, self.batch_size, self.hidden_dim)))\n",
    "    \n",
    "    def detach_hidden(self, hidden):\n",
    "        \"\"\" util function to keep down number of graphs \"\"\"\n",
    "        return tuple([h.detach() for h in hidden])\n",
    "        \n",
    "    def forward(self, x, hidden, train = True):\n",
    "        \"\"\" predict, return hidden state so it can be used to intialize the next hidden state \"\"\"\n",
    "        embedded = self.embeddings(x)\n",
    "        embedded = self.drop(embedded) if train else embedded\n",
    "        \n",
    "        lstm_output, hdn = self.lstm(embedded, hidden)\n",
    "        reshaped = lstm_output.view(-1, lstm_output.size(2))\n",
    "        dropped = self.drop(reshaped) if train else reshaped\n",
    "        \n",
    "        decoded = self.linear(dropped)\n",
    "        \n",
    "        logits = F.log_softmax(decoded, dim = 1)\n",
    "                \n",
    "        return logits, self.detach_hidden(hdn)    \n",
    "    \n",
    "class Trainer:\n",
    "    def __init__(self, train_iter, val_iter):\n",
    "        self.train_iter = train_iter\n",
    "        self.val_iter = val_iter\n",
    "        \n",
    "    def string_to_batch(self, string):\n",
    "        relevant_split = string.split() # last two words, ignore ___\n",
    "        ids = [self.word_to_id(word) for word in relevant_split]\n",
    "        if use_cuda:\n",
    "            return Variable(torch.LongTensor(ids)).cuda()\n",
    "        else:\n",
    "            return Variable(torch.LongTensor(ids))\n",
    "        \n",
    "    def word_to_id(self, word, TEXT = TEXT):\n",
    "        return TEXT.vocab.stoi[word]\n",
    "    \n",
    "    def batch_to_input(self, batch):\n",
    "        ngrams = self.collect_batch_ngrams(batch)\n",
    "        x = Variable(torch.LongTensor([ngram[:-1] for ngram in ngrams]))\n",
    "        y = Variable(torch.LongTensor([ngram[-1] for ngram in ngrams]))\n",
    "        if use_cuda:\n",
    "            return x.cuda(), y.cuda()\n",
    "        else:\n",
    "            return x, y\n",
    "    \n",
    "    def collect_batch_ngrams(self, batch, n = 3):\n",
    "        data = batch.text.view(-1).data.tolist()\n",
    "        return [tuple(data[idx:idx + n]) for idx in range(0, len(data) - n + 1)]\n",
    "    \n",
    "    def train_model(self, model, num_epochs):\n",
    "        parameters = filter(lambda p: p.requires_grad, model.parameters())\n",
    "        optimizer = torch.optim.Adam(params = parameters, lr=1e-3)\n",
    "        criterion = nn.NLLLoss()\n",
    "        \n",
    "        for epoch in tqdm_notebook(range(num_epochs)):\n",
    "\n",
    "            epoch_loss = []\n",
    "            hidden = model.init_hidden()\n",
    "            model.train()\n",
    "\n",
    "            for batch in tqdm_notebook(train_iter):\n",
    "                x, y = batch.text, batch.target.view(-1)\n",
    "                if use_cuda: x, y = x.cuda(), y.cuda()\n",
    "\n",
    "                optimizer.zero_grad()\n",
    "\n",
    "                y_pred, hidden = model.forward(x, hidden, train = True)\n",
    "\n",
    "                loss = criterion(y_pred, y)\n",
    "                loss.backward()\n",
    "\n",
    "                torch.nn.utils.clip_grad_norm(model.lstm.parameters(), 1)\n",
    "\n",
    "                optimizer.step()\n",
    "\n",
    "                epoch_loss.append(loss.data[0])\n",
    "                \n",
    "            model.eval()\n",
    "            train_ppl = np.exp(np.mean(epoch_loss))\n",
    "            val_ppl = self.validate(model)\n",
    "\n",
    "            print('Epoch {0} | Loss: {1} | Train PPL: {2} | Val PPL: {3}'.format(epoch+1, np.mean(epoch_loss), train_ppl,  val_ppl))\n",
    "    \n",
    "        print('Model trained.')\n",
    "        self.write_kaggle(model)\n",
    "        print('Output saved.')\n",
    "        \n",
    "    def validate(self, model):\n",
    "        criterion = nn.NLLLoss()\n",
    "        hidden = model.init_hidden()\n",
    "        aggregate_loss = []\n",
    "        for batch in self.val_iter:\n",
    "            y_p, _ = model.forward(batch.text, hidden, train = False)\n",
    "            y_t = batch.target.view(-1)\n",
    "            \n",
    "            loss = criterion(y_p, y_t)\n",
    "            aggregate_loss.append(loss.data[0])        \n",
    "        val_ppl = np.exp(np.mean(aggregate_loss))\n",
    "        return val_ppl\n",
    "    \n",
    "    def predict_sentence(self, string, model, TEXT = TEXT):\n",
    "        string = string[:-4]\n",
    "        model.batch_size = 1\n",
    "        hidden = model.init_hidden()\n",
    "        x = self.string_to_batch(string)\n",
    "        logits, _ = model.forward(x, hidden, train = False)\n",
    "        argsort_ids = np.argsort(logits[-1].data.tolist())\n",
    "        out_ids = argsort_ids[-20:][::-1]\n",
    "        out_words = ' '.join([TEXT.vocab.itos[out_id] for out_id in out_ids])\n",
    "        return out_words\n",
    "    \n",
    "    def write_kaggle(self, model, input_file = 'input.txt'):        \n",
    "        inputs = open(input_file, 'r').read().splitlines()\n",
    "        outputs = [self.predict_sentence(sentence, model) for sentence in inputs]\n",
    "        with open('lstm_initialized_output.txt', 'w') as f:\n",
    "            f.write('id,word')\n",
    "            for idx, line in enumerate(outputs):\n",
    "                f.write('\\n')\n",
    "                f.write(str(idx) + ',')\n",
    "                f.write(line) "
   ]
  },
  {
   "cell_type": "code",
   "execution_count": 6,
   "metadata": {},
   "outputs": [
    {
     "data": {
      "application/vnd.jupyter.widget-view+json": {
       "model_id": "ed8a9e21860a4fa59da76e1de507faef",
       "version_major": 2,
       "version_minor": 0
      },
      "text/html": [
       "<p>Failed to display Jupyter Widget of type <code>HBox</code>.</p>\n",
       "<p>\n",
       "  If you're reading this message in the Jupyter Notebook or JupyterLab Notebook, it may mean\n",
       "  that the widgets JavaScript is still loading. If this message persists, it\n",
       "  likely means that the widgets JavaScript library is either not installed or\n",
       "  not enabled. See the <a href=\"https://ipywidgets.readthedocs.io/en/stable/user_install.html\">Jupyter\n",
       "  Widgets Documentation</a> for setup instructions.\n",
       "</p>\n",
       "<p>\n",
       "  If you're reading this message in another frontend (for example, a static\n",
       "  rendering on GitHub or <a href=\"https://nbviewer.jupyter.org/\">NBViewer</a>),\n",
       "  it may mean that your frontend doesn't currently support widgets.\n",
       "</p>\n"
      ],
      "text/plain": [
       "HBox(children=(IntProgress(value=0, max=10), HTML(value='')))"
      ]
     },
     "metadata": {},
     "output_type": "display_data"
    },
    {
     "data": {
      "application/vnd.jupyter.widget-view+json": {
       "model_id": "114a077422b846edaede83a9334033fb",
       "version_major": 2,
       "version_minor": 0
      },
      "text/html": [
       "<p>Failed to display Jupyter Widget of type <code>HBox</code>.</p>\n",
       "<p>\n",
       "  If you're reading this message in the Jupyter Notebook or JupyterLab Notebook, it may mean\n",
       "  that the widgets JavaScript is still loading. If this message persists, it\n",
       "  likely means that the widgets JavaScript library is either not installed or\n",
       "  not enabled. See the <a href=\"https://ipywidgets.readthedocs.io/en/stable/user_install.html\">Jupyter\n",
       "  Widgets Documentation</a> for setup instructions.\n",
       "</p>\n",
       "<p>\n",
       "  If you're reading this message in another frontend (for example, a static\n",
       "  rendering on GitHub or <a href=\"https://nbviewer.jupyter.org/\">NBViewer</a>),\n",
       "  it may mean that your frontend doesn't currently support widgets.\n",
       "</p>\n"
      ],
      "text/plain": [
       "HBox(children=(IntProgress(value=0, max=2905), HTML(value='')))"
      ]
     },
     "metadata": {},
     "output_type": "display_data"
    },
    {
     "name": "stdout",
     "output_type": "stream",
     "text": [
      "\n"
     ]
    },
    {
     "ename": "KeyboardInterrupt",
     "evalue": "",
     "output_type": "error",
     "traceback": [
      "\u001b[0;31m---------------------------------------------------------------------------\u001b[0m",
      "\u001b[0;31mKeyboardInterrupt\u001b[0m                         Traceback (most recent call last)",
      "\u001b[0;32m<ipython-input-6-43f7c4bf427b>\u001b[0m in \u001b[0;36m<module>\u001b[0;34m()\u001b[0m\n\u001b[1;32m      3\u001b[0m     \u001b[0mmodel\u001b[0m\u001b[0;34m.\u001b[0m\u001b[0mcuda\u001b[0m\u001b[0;34m(\u001b[0m\u001b[0;34m)\u001b[0m\u001b[0;34m\u001b[0m\u001b[0m\n\u001b[1;32m      4\u001b[0m \u001b[0mtrainer\u001b[0m \u001b[0;34m=\u001b[0m \u001b[0mTrainer\u001b[0m\u001b[0;34m(\u001b[0m\u001b[0mtrain_iter\u001b[0m \u001b[0;34m=\u001b[0m \u001b[0mtrain_iter\u001b[0m\u001b[0;34m,\u001b[0m \u001b[0mval_iter\u001b[0m \u001b[0;34m=\u001b[0m \u001b[0mval_iter\u001b[0m\u001b[0;34m)\u001b[0m\u001b[0;34m\u001b[0m\u001b[0m\n\u001b[0;32m----> 5\u001b[0;31m \u001b[0mtrainer\u001b[0m\u001b[0;34m.\u001b[0m\u001b[0mtrain_model\u001b[0m\u001b[0;34m(\u001b[0m\u001b[0mmodel\u001b[0m \u001b[0;34m=\u001b[0m \u001b[0mmodel\u001b[0m\u001b[0;34m,\u001b[0m \u001b[0mnum_epochs\u001b[0m \u001b[0;34m=\u001b[0m \u001b[0;36m10\u001b[0m\u001b[0;34m)\u001b[0m\u001b[0;34m\u001b[0m\u001b[0m\n\u001b[0m",
      "\u001b[0;32m<ipython-input-5-dd8ea277774e>\u001b[0m in \u001b[0;36mtrain_model\u001b[0;34m(self, model, num_epochs)\u001b[0m\n\u001b[1;32m     99\u001b[0m \u001b[0;34m\u001b[0m\u001b[0m\n\u001b[1;32m    100\u001b[0m                 \u001b[0mloss\u001b[0m \u001b[0;34m=\u001b[0m \u001b[0mcriterion\u001b[0m\u001b[0;34m(\u001b[0m\u001b[0my_pred\u001b[0m\u001b[0;34m,\u001b[0m \u001b[0my\u001b[0m\u001b[0;34m)\u001b[0m\u001b[0;34m\u001b[0m\u001b[0m\n\u001b[0;32m--> 101\u001b[0;31m                 \u001b[0mloss\u001b[0m\u001b[0;34m.\u001b[0m\u001b[0mbackward\u001b[0m\u001b[0;34m(\u001b[0m\u001b[0;34m)\u001b[0m\u001b[0;34m\u001b[0m\u001b[0m\n\u001b[0m\u001b[1;32m    102\u001b[0m \u001b[0;34m\u001b[0m\u001b[0m\n\u001b[1;32m    103\u001b[0m                 \u001b[0mtorch\u001b[0m\u001b[0;34m.\u001b[0m\u001b[0mnn\u001b[0m\u001b[0;34m.\u001b[0m\u001b[0mutils\u001b[0m\u001b[0;34m.\u001b[0m\u001b[0mclip_grad_norm\u001b[0m\u001b[0;34m(\u001b[0m\u001b[0mmodel\u001b[0m\u001b[0;34m.\u001b[0m\u001b[0mlstm\u001b[0m\u001b[0;34m.\u001b[0m\u001b[0mparameters\u001b[0m\u001b[0;34m(\u001b[0m\u001b[0;34m)\u001b[0m\u001b[0;34m,\u001b[0m \u001b[0;36m1\u001b[0m\u001b[0;34m)\u001b[0m\u001b[0;34m\u001b[0m\u001b[0m\n",
      "\u001b[0;32m~/Desktop/cs287/homeworks/env/lib/python3.6/site-packages/torch/autograd/variable.py\u001b[0m in \u001b[0;36mbackward\u001b[0;34m(self, gradient, retain_graph, create_graph, retain_variables)\u001b[0m\n\u001b[1;32m    165\u001b[0m                 \u001b[0mVariable\u001b[0m\u001b[0;34m.\u001b[0m\u001b[0;34m\u001b[0m\u001b[0m\n\u001b[1;32m    166\u001b[0m         \"\"\"\n\u001b[0;32m--> 167\u001b[0;31m         \u001b[0mtorch\u001b[0m\u001b[0;34m.\u001b[0m\u001b[0mautograd\u001b[0m\u001b[0;34m.\u001b[0m\u001b[0mbackward\u001b[0m\u001b[0;34m(\u001b[0m\u001b[0mself\u001b[0m\u001b[0;34m,\u001b[0m \u001b[0mgradient\u001b[0m\u001b[0;34m,\u001b[0m \u001b[0mretain_graph\u001b[0m\u001b[0;34m,\u001b[0m \u001b[0mcreate_graph\u001b[0m\u001b[0;34m,\u001b[0m \u001b[0mretain_variables\u001b[0m\u001b[0;34m)\u001b[0m\u001b[0;34m\u001b[0m\u001b[0m\n\u001b[0m\u001b[1;32m    168\u001b[0m \u001b[0;34m\u001b[0m\u001b[0m\n\u001b[1;32m    169\u001b[0m     \u001b[0;32mdef\u001b[0m \u001b[0mregister_hook\u001b[0m\u001b[0;34m(\u001b[0m\u001b[0mself\u001b[0m\u001b[0;34m,\u001b[0m \u001b[0mhook\u001b[0m\u001b[0;34m)\u001b[0m\u001b[0;34m:\u001b[0m\u001b[0;34m\u001b[0m\u001b[0m\n",
      "\u001b[0;32m~/Desktop/cs287/homeworks/env/lib/python3.6/site-packages/torch/autograd/__init__.py\u001b[0m in \u001b[0;36mbackward\u001b[0;34m(variables, grad_variables, retain_graph, create_graph, retain_variables)\u001b[0m\n\u001b[1;32m     97\u001b[0m \u001b[0;34m\u001b[0m\u001b[0m\n\u001b[1;32m     98\u001b[0m     Variable._execution_engine.run_backward(\n\u001b[0;32m---> 99\u001b[0;31m         variables, grad_variables, retain_graph)\n\u001b[0m\u001b[1;32m    100\u001b[0m \u001b[0;34m\u001b[0m\u001b[0m\n\u001b[1;32m    101\u001b[0m \u001b[0;34m\u001b[0m\u001b[0m\n",
      "\u001b[0;31mKeyboardInterrupt\u001b[0m: "
     ]
    }
   ],
   "source": [
    "model = LSTMLanguageModel(hidden_dim = 1024)\n",
    "if use_cuda: \n",
    "    model.cuda()\n",
    "trainer = Trainer(train_iter = train_iter, val_iter = val_iter)\n",
    "trainer.train_model(model = model, num_epochs = 10)"
   ]
  },
  {
   "cell_type": "code",
   "execution_count": 8,
   "metadata": {},
   "outputs": [],
   "source": [
    "batch = next(iter(train_iter))\n",
    "x = batch.text\n",
    "hidden = model.init_hidden()\n",
    "\n",
    "embedded = model.embeddings(x)\n",
    "embedded = model.drop(embedded) #if train else embedded\n",
    "\n",
    "lstm_output, hdn = model.lstm(embedded, hidden)\n",
    "reshaped = lstm_output.view(-1, lstm_output.size(2))\n",
    "dropped = model.drop(reshaped) if train else reshaped\n",
    "\n",
    "decoded = model.linear(dropped)"
   ]
  },
  {
   "cell_type": "code",
   "execution_count": 19,
   "metadata": {},
   "outputs": [
    {
     "data": {
      "text/plain": [
       "Variable containing:\n",
       "-1.3221e-02 -2.7291e-02  1.4944e-01  ...   5.5913e-02  9.4392e-02  7.7707e-02\n",
       " 6.4081e-02 -1.0069e-01 -8.2317e-02  ...   1.4140e-01  9.4296e-03  1.4276e-01\n",
       " 5.8650e-02  6.7410e-02 -1.2782e-01  ...   1.0673e-01  3.2066e-02  7.1340e-02\n",
       "                ...                   ⋱                   ...                \n",
       " 8.4197e-01 -1.3047e-01 -8.0163e-01  ...   9.4175e-01 -8.4742e-01  8.5667e-01\n",
       " 9.0017e-01 -1.0958e-01 -8.2342e-01  ...   9.4636e-01 -8.0056e-01  8.3597e-01\n",
       " 8.6568e-01 -1.4711e-01 -7.2957e-01  ...   9.4486e-01 -8.0473e-01  8.1715e-01\n",
       "[torch.FloatTensor of size 320x1024]"
      ]
     },
     "execution_count": 19,
     "metadata": {},
     "output_type": "execute_result"
    }
   ],
   "source": [
    "reshaped"
   ]
  }
 ],
 "metadata": {
  "kernelspec": {
   "display_name": "Python 3",
   "language": "python",
   "name": "python3"
  },
  "language_info": {
   "codemirror_mode": {
    "name": "ipython",
    "version": 3
   },
   "file_extension": ".py",
   "mimetype": "text/x-python",
   "name": "python",
   "nbconvert_exporter": "python",
   "pygments_lexer": "ipython3",
   "version": "3.6.4"
  }
 },
 "nbformat": 4,
 "nbformat_minor": 2
}
