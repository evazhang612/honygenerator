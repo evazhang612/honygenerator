{
 "cells": [
  {
   "cell_type": "code",
   "execution_count": 34,
   "metadata": {},
   "outputs": [
    {
     "name": "stderr",
     "output_type": "stream",
     "text": [
      "WARNING:torchtext.data.iterator:The `device` argument should be set by using `torch.device` or passing a string as an argument. This behavior will be deprecated soon and currently defaults to cpu.\n",
      "WARNING:torchtext.data.iterator:The `device` argument should be set by using `torch.device` or passing a string as an argument. This behavior will be deprecated soon and currently defaults to cpu.\n",
      "WARNING:torchtext.data.iterator:The `device` argument should be set by using `torch.device` or passing a string as an argument. This behavior will be deprecated soon and currently defaults to cpu.\n"
     ]
    }
   ],
   "source": [
    "import torchtext, random, math\n",
    "import numpy as np\n",
    "from collections import defaultdict\n",
    "from math import log\n",
    "from tqdm import tqdm\n",
    "from collections import Counter\n",
    "\n",
    "TEXT = torchtext.data.Field()\n",
    "train, val, test = torchtext.datasets.LanguageModelingDataset.splits(path=\"../data\", train=\"train.txt\", validation=\"valid.txt\", test=\"valid.txt\", text_field=TEXT)\n",
    "# TEXT.build_vocab(train, max_size=1000) if False else \n",
    "TEXT.build_vocab(train)\n",
    "train_iter, val_iter, test_iter = torchtext.data.BPTTIterator.splits((train, val, test), batch_size=10, device=-1, bptt_len=32, repeat=False)"
   ]
  },
  {
   "cell_type": "code",
   "execution_count": 35,
   "metadata": {},
   "outputs": [],
   "source": [
    "class TrigramModel:\n",
    "    def __init__(self, train_iter, sample_size = 100, TEXT = TEXT, n = 3, oov_prob = 1e-10):\n",
    "        self.n = n\n",
    "        self.oov_prob = oov_prob\n",
    "        self.TEXT = TEXT\n",
    "        self.sample_size = sample_size\n",
    "        self.probs_dict, self.alphas, self.perplexity = self.get_probs_dict(train_iter)\n",
    "        \n",
    "    def __call__(self, string):\n",
    "        split_str = string.split()\n",
    "        relevant_str = split_str[-1*self.n+1:]\n",
    "        ids = tuple([model.TEXT.vocab.stoi[word] for word in relevant_str])\n",
    "\n",
    "        all_probs = []\n",
    "        for unigram in model.probs_dict[1].keys():\n",
    "            combo = ids + unigram\n",
    "            probability = 1\n",
    "            for ngram in range(self.n, 0, -1):\n",
    "                if combo[-ngram:] not in model.probs_dict[ngram]:\n",
    "                    probability *= self.oov_prob\n",
    "                else:\n",
    "                    probability *= model.probs_dict[ngram][combo[self.n-ngram:]]\n",
    "            all_probs.append(tuple([combo[-1], probability]))\n",
    "\n",
    "        all_probs = sorted(all_probs, key = lambda x: x[1])\n",
    "        out_ids = [prob[0] for prob in all_probs[-20:]]\n",
    "        out_words = ' '.join([self.id_to_word(idx) for idx in out_ids])\n",
    "        return out_words\n",
    "            \n",
    "    def get_probs_dict(self, train_iter):\n",
    "        print('Finding best alpha values out of {0} random search values...'.format(self.sample_size))\n",
    "        counts_dict = self.get_counts_dict(train_iter, self.n)\n",
    "        ngrams = list(counts_dict.keys())[1:]\n",
    "        best_ppl = 1e10\n",
    "        for _ in tqdm(range(self.sample_size)):\n",
    "            alphas = self.sample_alphas()\n",
    "            probs_dict = defaultdict(dict)\n",
    "            \n",
    "            # retrieve probabilities\n",
    "            for ngram in ngrams:\n",
    "                probs_dict[ngram] = defaultdict(float)\n",
    "                below_ngram = ngram-1\n",
    "                for key, value in counts_dict[ngram].items():\n",
    "                    below_key = key[:below_ngram]\n",
    "                    probs_dict[ngram][key] = math.log(alphas[-ngram] * (value / counts_dict[below_ngram][below_key]), 2)\n",
    "\n",
    "            # unigram is special case with this setup\n",
    "            probs_dict[1] = {key: math.log(alphas[-1] * (value/sum(counts_dict[1].values()))) for key, value in counts_dict[1].items()}    \n",
    "            ppl = self.perplexity(probs_dict, counts_dict, self.n)\n",
    "            if ppl < best_ppl:\n",
    "                best_ppl = ppl\n",
    "                best_probs_dict = probs_dict\n",
    "                best_alphas = alphas\n",
    "                \n",
    "        print('Best alphas: {1}'.format(best_ppl, best_alphas))\n",
    "            \n",
    "        return best_probs_dict, best_alphas, best_ppl\n",
    "\n",
    "    def get_counts_dict(self, train_iter, n):\n",
    "        # initialize dictionary of ngram dictionaries\n",
    "        counts_dict = defaultdict(dict)\n",
    "        interval = range(1, n+1)\n",
    "        for n_val in interval: \n",
    "            counts_dict[n_val] = defaultdict(int)\n",
    "\n",
    "        # get all ngram counts, store\n",
    "        for batch in iter(train_iter):\n",
    "            generators = [self.collect_batch_ngrams(batch, n) for n in interval]\n",
    "            for n_val, gen in enumerate(generators):\n",
    "                for entry in gen:\n",
    "                    counts_dict[n_val+1][entry] += 1\n",
    "\n",
    "        return counts_dict\n",
    "\n",
    "    def collect_batch_ngrams(self, batch, n):\n",
    "        n = max(1, int(n))\n",
    "        data = batch.text.view(-1).data.tolist()\n",
    "        for idx in range(0, len(data)-n+1):\n",
    "            yield tuple(data[idx:idx+n])\n",
    "\n",
    "    def sample_alphas(self):\n",
    "        alpha1 = random.random()\n",
    "        alpha2 = random.uniform(0, 1-alpha1)\n",
    "        return [alpha1, alpha2, 1-alpha1-alpha2]\n",
    "    \n",
    "    def perplexity(self, probs_dict, counts_dict, n = 3):\n",
    "        average_nll = np.mean([-probs_dict[n][ngram] for ngram in probs_dict[n].keys()])\n",
    "        return np.exp(average_nll)\n",
    "    \n",
    "    def id_to_word(self, idx):\n",
    "        return self.TEXT.vocab.itos[idx]\n",
    "    \n",
    "    def write_kaggle(self, input_file):\n",
    "        print('Writing output...')\n",
    "        inputs = open(input_file, 'r').read().splitlines()\n",
    "        with open('trigram_output.txt', 'w') as fh:\n",
    "            fh.write('id,word\\n')\n",
    "            for idx, line in enumerate(tqdm(inputs)):\n",
    "                fh.write(str(idx) + ',' + self(line[:-4]) + '\\n')"
   ]
  },
  {
   "cell_type": "code",
   "execution_count": 36,
   "metadata": {},
   "outputs": [
    {
     "name": "stdout",
     "output_type": "stream",
     "text": [
      "Finding best alpha values out of 25 random search values...\n"
     ]
    },
    {
     "name": "stderr",
     "output_type": "stream",
     "text": [
      "100%|██████████| 25/25 [01:08<00:00,  2.59s/it]"
     ]
    },
    {
     "name": "stdout",
     "output_type": "stream",
     "text": [
      "Best alphas: [0.9966768160844282, 0.0009160576376604562, 0.0024071262779113917]\n",
      "CPU times: user 56 s, sys: 3.06 s, total: 59 s\n",
      "Wall time: 1min 11s\n"
     ]
    },
    {
     "name": "stderr",
     "output_type": "stream",
     "text": [
      "\n"
     ]
    }
   ],
   "source": [
    "%%time\n",
    "model = TrigramModel(train_iter, 25)\n",
    "# model.write_kaggle('input.txt')"
   ]
  },
  {
   "cell_type": "code",
   "execution_count": 27,
   "metadata": {},
   "outputs": [
    {
     "data": {
      "text/plain": [
       "9.769027662254416"
      ]
     },
     "execution_count": 27,
     "metadata": {},
     "output_type": "execute_result"
    }
   ],
   "source": [
    "model.perplexity"
   ]
  },
  {
   "cell_type": "code",
   "execution_count": 32,
   "metadata": {},
   "outputs": [
    {
     "name": "stderr",
     "output_type": "stream",
     "text": [
      "\r",
      "0it [00:00, ?it/s]"
     ]
    },
    {
     "name": "stdout",
     "output_type": "stream",
     "text": [
      "Writing output...\n"
     ]
    },
    {
     "name": "stderr",
     "output_type": "stream",
     "text": [
      "\n"
     ]
    }
   ],
   "source": [
    "model.write_kaggle('../input.txt')"
   ]
  },
  {
   "cell_type": "code",
   "execution_count": null,
   "metadata": {},
   "outputs": [],
   "source": [
    "!head t"
   ]
  }
 ],
 "metadata": {
  "kernelspec": {
   "display_name": "Python 3",
   "language": "python",
   "name": "python3"
  },
  "language_info": {
   "codemirror_mode": {
    "name": "ipython",
    "version": 3
   },
   "file_extension": ".py",
   "mimetype": "text/x-python",
   "name": "python",
   "nbconvert_exporter": "python",
   "pygments_lexer": "ipython3",
   "version": "3.6.4"
  },
  "toc": {
   "base_numbering": 1,
   "nav_menu": {},
   "number_sections": false,
   "sideBar": false,
   "skip_h1_title": false,
   "title_cell": "Table of Contents",
   "title_sidebar": "Contents",
   "toc_cell": false,
   "toc_position": {},
   "toc_section_display": false,
   "toc_window_display": false
  }
 },
 "nbformat": 4,
 "nbformat_minor": 2
}
